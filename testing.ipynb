{
 "cells": [
  {
   "cell_type": "code",
   "execution_count": 2,
   "metadata": {},
   "outputs": [],
   "source": [
    "%load_ext autoreload\n",
    "%autoreload 2"
   ]
  },
  {
   "cell_type": "code",
   "execution_count": 3,
   "metadata": {},
   "outputs": [],
   "source": [
    "import os\n",
    "import torch\n",
    "from position_encoding import PositionEncoding"
   ]
  },
  {
   "cell_type": "code",
   "execution_count": 4,
   "metadata": {},
   "outputs": [
    {
     "name": "stdout",
     "output_type": "stream",
     "text": [
      "/home/spandan/Projects/hubbard-transformer\n"
     ]
    }
   ],
   "source": [
    "REPO_NAME = \"hubbard-transformer\"\n",
    "\n",
    "if REPO_NAME not in os.getcwd():\n",
    "    os.chdir(f\"../{REPO_NAME}\")\n",
    "\n",
    "print(os.getcwd())"
   ]
  },
  {
   "cell_type": "code",
   "execution_count": 5,
   "metadata": {},
   "outputs": [],
   "source": [
    "SEQ = 5\n",
    "BATCH = 7\n",
    "EMBED = 32"
   ]
  },
  {
   "cell_type": "code",
   "execution_count": 6,
   "metadata": {},
   "outputs": [
    {
     "data": {
      "text/plain": [
       "tensor([[[0., 0., 0.,  ..., 0., 0., 0.],\n",
       "         [0., 0., 0.,  ..., 0., 0., 0.],\n",
       "         [0., 0., 0.,  ..., 0., 0., 0.],\n",
       "         ...,\n",
       "         [0., 0., 0.,  ..., 0., 0., 0.],\n",
       "         [0., 0., 0.,  ..., 0., 0., 0.],\n",
       "         [0., 0., 0.,  ..., 0., 0., 0.]],\n",
       "\n",
       "        [[0., 0., 0.,  ..., 0., 0., 0.],\n",
       "         [0., 0., 0.,  ..., 0., 0., 0.],\n",
       "         [0., 0., 0.,  ..., 0., 0., 0.],\n",
       "         ...,\n",
       "         [0., 0., 0.,  ..., 0., 0., 0.],\n",
       "         [0., 0., 0.,  ..., 0., 0., 0.],\n",
       "         [0., 0., 0.,  ..., 0., 0., 0.]],\n",
       "\n",
       "        [[0., 0., 0.,  ..., 0., 0., 0.],\n",
       "         [0., 0., 0.,  ..., 0., 0., 0.],\n",
       "         [0., 0., 0.,  ..., 0., 0., 0.],\n",
       "         ...,\n",
       "         [0., 0., 0.,  ..., 0., 0., 0.],\n",
       "         [0., 0., 0.,  ..., 0., 0., 0.],\n",
       "         [0., 0., 0.,  ..., 0., 0., 0.]],\n",
       "\n",
       "        [[0., 0., 0.,  ..., 0., 0., 0.],\n",
       "         [0., 0., 0.,  ..., 0., 0., 0.],\n",
       "         [0., 0., 0.,  ..., 0., 0., 0.],\n",
       "         ...,\n",
       "         [0., 0., 0.,  ..., 0., 0., 0.],\n",
       "         [0., 0., 0.,  ..., 0., 0., 0.],\n",
       "         [0., 0., 0.,  ..., 0., 0., 0.]],\n",
       "\n",
       "        [[0., 0., 0.,  ..., 0., 0., 0.],\n",
       "         [0., 0., 0.,  ..., 0., 0., 0.],\n",
       "         [0., 0., 0.,  ..., 0., 0., 0.],\n",
       "         ...,\n",
       "         [0., 0., 0.,  ..., 0., 0., 0.],\n",
       "         [0., 0., 0.,  ..., 0., 0., 0.],\n",
       "         [0., 0., 0.,  ..., 0., 0., 0.]]])"
      ]
     },
     "execution_count": 6,
     "metadata": {},
     "output_type": "execute_result"
    }
   ],
   "source": [
    "test_tens = torch.zeros(SEQ, BATCH, EMBED)  # seq, batch, embed\n",
    "test_tens"
   ]
  },
  {
   "cell_type": "code",
   "execution_count": 7,
   "metadata": {},
   "outputs": [
    {
     "data": {
      "text/plain": [
       "[tensor([[[ 0.0000e+00,  1.0000e+00,  0.0000e+00,  1.0000e+00,  0.0000e+00,\n",
       "            1.0000e+00,  0.0000e+00,  1.0000e+00,  0.0000e+00,  1.0000e+00,\n",
       "            0.0000e+00,  1.0000e+00,  0.0000e+00,  1.0000e+00,  0.0000e+00,\n",
       "            1.0000e+00,  0.0000e+00,  1.0000e+00,  0.0000e+00,  1.0000e+00,\n",
       "            0.0000e+00,  1.0000e+00,  0.0000e+00,  1.0000e+00,  0.0000e+00,\n",
       "            1.0000e+00,  0.0000e+00,  1.0000e+00,  0.0000e+00,  1.0000e+00,\n",
       "            0.0000e+00,  1.0000e+00]],\n",
       " \n",
       "         [[ 8.4147e-01,  5.4030e-01,  4.0931e-01,  9.1240e-01,  1.7689e-01,\n",
       "            9.8423e-01,  7.4919e-02,  9.9719e-01,  3.1618e-02,  9.9950e-01,\n",
       "            1.3335e-02,  9.9991e-01,  5.6234e-03,  9.9998e-01,  2.3714e-03,\n",
       "            1.0000e+00,  1.0000e-03,  1.0000e+00,  4.2170e-04,  1.0000e+00,\n",
       "            1.7783e-04,  1.0000e+00,  7.4989e-05,  1.0000e+00,  3.1623e-05,\n",
       "            1.0000e+00,  1.3335e-05,  1.0000e+00,  5.6234e-06,  1.0000e+00,\n",
       "            2.3714e-06,  1.0000e+00]],\n",
       " \n",
       "         [[ 9.0930e-01, -4.1615e-01,  7.4690e-01,  6.6493e-01,  3.4821e-01,\n",
       "            9.3742e-01,  1.4942e-01,  9.8877e-01,  6.3203e-02,  9.9800e-01,\n",
       "            2.6667e-02,  9.9964e-01,  1.1247e-02,  9.9994e-01,  4.7427e-03,\n",
       "            9.9999e-01,  2.0000e-03,  1.0000e+00,  8.4339e-04,  1.0000e+00,\n",
       "            3.5566e-04,  1.0000e+00,  1.4998e-04,  1.0000e+00,  6.3246e-05,\n",
       "            1.0000e+00,  2.6670e-05,  1.0000e+00,  1.1247e-05,  1.0000e+00,\n",
       "            4.7427e-06,  1.0000e+00]],\n",
       " \n",
       "         [[ 1.4112e-01, -9.8999e-01,  9.5363e-01,  3.0097e-01,  5.0854e-01,\n",
       "            8.6104e-01,  2.2308e-01,  9.7480e-01,  9.4726e-02,  9.9550e-01,\n",
       "            3.9995e-02,  9.9920e-01,  1.6869e-02,  9.9986e-01,  7.1141e-03,\n",
       "            9.9997e-01,  3.0000e-03,  1.0000e+00,  1.2651e-03,  1.0000e+00,\n",
       "            5.3348e-04,  1.0000e+00,  2.2497e-04,  1.0000e+00,  9.4868e-05,\n",
       "            1.0000e+00,  4.0006e-05,  1.0000e+00,  1.6870e-05,  1.0000e+00,\n",
       "            7.1141e-06,  1.0000e+00]],\n",
       " \n",
       "         [[-7.5680e-01, -6.5364e-01,  9.9328e-01, -1.1573e-01,  6.5283e-01,\n",
       "            7.5751e-01,  2.9548e-01,  9.5535e-01,  1.2615e-01,  9.9201e-01,\n",
       "            5.3316e-02,  9.9858e-01,  2.2492e-02,  9.9975e-01,  9.4854e-03,\n",
       "            9.9995e-01,  4.0000e-03,  9.9999e-01,  1.6868e-03,  1.0000e+00,\n",
       "            7.1131e-04,  1.0000e+00,  2.9996e-04,  1.0000e+00,  1.2649e-04,\n",
       "            1.0000e+00,  5.3341e-05,  1.0000e+00,  2.2494e-05,  1.0000e+00,\n",
       "            9.4855e-06,  1.0000e+00]],\n",
       " \n",
       "         [[-9.5892e-01,  2.8366e-01,  8.5890e-01, -5.1215e-01,  7.7653e-01,\n",
       "            6.3008e-01,  3.6622e-01,  9.3053e-01,  1.5746e-01,  9.8753e-01,\n",
       "            6.6627e-02,  9.9778e-01,  2.8113e-02,  9.9960e-01,  1.1857e-02,\n",
       "            9.9993e-01,  5.0000e-03,  9.9999e-01,  2.1085e-03,  1.0000e+00,\n",
       "            8.8914e-04,  1.0000e+00,  3.7495e-04,  1.0000e+00,  1.5811e-04,\n",
       "            1.0000e+00,  6.6676e-05,  1.0000e+00,  2.8117e-05,  1.0000e+00,\n",
       "            1.1857e-05,  1.0000e+00]],\n",
       " \n",
       "         [[-2.7942e-01,  9.6017e-01,  5.7403e-01, -8.1884e-01,  8.7574e-01,\n",
       "            4.8278e-01,  4.3491e-01,  9.0047e-01,  1.8860e-01,  9.8205e-01,\n",
       "            7.9926e-02,  9.9680e-01,  3.3734e-02,  9.9943e-01,  1.4228e-02,\n",
       "            9.9990e-01,  6.0000e-03,  9.9998e-01,  2.5302e-03,  1.0000e+00,\n",
       "            1.0670e-03,  1.0000e+00,  4.4994e-04,  1.0000e+00,  1.8974e-04,\n",
       "            1.0000e+00,  8.0011e-05,  1.0000e+00,  3.3740e-05,  1.0000e+00,\n",
       "            1.4228e-05,  1.0000e+00]],\n",
       " \n",
       "         [[ 6.5699e-01,  7.5390e-01,  1.8858e-01, -9.8206e-01,  9.4733e-01,\n",
       "            3.2026e-01,  5.0115e-01,  8.6536e-01,  2.1956e-01,  9.7560e-01,\n",
       "            9.3211e-02,  9.9565e-01,  3.9354e-02,  9.9923e-01,  1.6599e-02,\n",
       "            9.9986e-01,  6.9999e-03,  9.9998e-01,  2.9519e-03,  1.0000e+00,\n",
       "            1.2448e-03,  1.0000e+00,  5.2493e-04,  1.0000e+00,  2.2136e-04,\n",
       "            1.0000e+00,  9.3346e-05,  1.0000e+00,  3.9364e-05,  1.0000e+00,\n",
       "            1.6600e-05,  1.0000e+00]],\n",
       " \n",
       "         [[ 9.8936e-01, -1.4550e-01, -2.2990e-01, -9.7321e-01,  9.8904e-01,\n",
       "            1.4763e-01,  5.6457e-01,  8.2538e-01,  2.5029e-01,  9.6817e-01,\n",
       "            1.0648e-01,  9.9431e-01,  4.4972e-02,  9.9899e-01,  1.8970e-02,\n",
       "            9.9982e-01,  7.9999e-03,  9.9997e-01,  3.3736e-03,  9.9999e-01,\n",
       "            1.4226e-03,  1.0000e+00,  5.9992e-04,  1.0000e+00,  2.5298e-04,\n",
       "            1.0000e+00,  1.0668e-04,  1.0000e+00,  4.4987e-05,  1.0000e+00,\n",
       "            1.8971e-05,  1.0000e+00]],\n",
       " \n",
       "         [[ 4.1212e-01, -9.1113e-01, -6.0811e-01, -7.9385e-01,  9.9956e-01,\n",
       "           -2.9651e-02,  6.2482e-01,  7.8077e-01,  2.8078e-01,  9.5977e-01,\n",
       "            1.1973e-01,  9.9281e-01,  5.0589e-02,  9.9872e-01,  2.1341e-02,\n",
       "            9.9977e-01,  8.9999e-03,  9.9996e-01,  3.7953e-03,  9.9999e-01,\n",
       "            1.6005e-03,  1.0000e+00,  6.7490e-04,  1.0000e+00,  2.8460e-04,\n",
       "            1.0000e+00,  1.2002e-04,  1.0000e+00,  5.0611e-05,  1.0000e+00,\n",
       "            2.1342e-05,  1.0000e+00]],\n",
       " \n",
       "         [[-5.4402e-01, -8.3907e-01, -8.7977e-01, -4.7540e-01,  9.7855e-01,\n",
       "           -2.0600e-01,  6.8156e-01,  7.3176e-01,  3.1098e-01,  9.5042e-01,\n",
       "            1.3296e-01,  9.9112e-01,  5.6204e-02,  9.9842e-01,  2.3712e-02,\n",
       "            9.9972e-01,  9.9998e-03,  9.9995e-01,  4.2170e-03,  9.9999e-01,\n",
       "            1.7783e-03,  1.0000e+00,  7.4989e-04,  1.0000e+00,  3.1623e-04,\n",
       "            1.0000e+00,  1.3335e-04,  1.0000e+00,  5.6234e-05,  1.0000e+00,\n",
       "            2.3714e-05,  1.0000e+00]],\n",
       " \n",
       "         [[-9.9999e-01,  4.4257e-03, -9.9728e-01, -7.3661e-02,  9.2668e-01,\n",
       "           -3.7585e-01,  7.3447e-01,  6.7864e-01,  3.4088e-01,  9.4011e-01,\n",
       "            1.4616e-01,  9.8926e-01,  6.1818e-02,  9.9809e-01,  2.6082e-02,\n",
       "            9.9966e-01,  1.1000e-02,  9.9994e-01,  4.6386e-03,  9.9999e-01,\n",
       "            1.9561e-03,  1.0000e+00,  8.2488e-04,  1.0000e+00,  3.4785e-04,\n",
       "            1.0000e+00,  1.4669e-04,  1.0000e+00,  6.1858e-05,  1.0000e+00,\n",
       "            2.6085e-05,  1.0000e+00]],\n",
       " \n",
       "         [[-5.3657e-01,  8.4385e-01, -9.4007e-01,  3.4099e-01,  8.4558e-01,\n",
       "           -5.3384e-01,  7.8325e-01,  6.2171e-01,  3.7043e-01,  9.2886e-01,\n",
       "            1.5934e-01,  9.8722e-01,  6.7430e-02,  9.9772e-01,  2.8453e-02,\n",
       "            9.9960e-01,  1.2000e-02,  9.9993e-01,  5.0603e-03,  9.9999e-01,\n",
       "            2.1339e-03,  1.0000e+00,  8.9987e-04,  1.0000e+00,  3.7947e-04,\n",
       "            1.0000e+00,  1.6002e-04,  1.0000e+00,  6.7481e-05,  1.0000e+00,\n",
       "            2.8456e-05,  1.0000e+00]],\n",
       " \n",
       "         [[ 4.2017e-01,  9.0745e-01, -7.1814e-01,  6.9589e-01,  7.3782e-01,\n",
       "           -6.7500e-01,  8.2762e-01,  5.6128e-01,  3.9961e-01,  9.1668e-01,\n",
       "            1.7249e-01,  9.8501e-01,  7.3039e-02,  9.9733e-01,  3.0823e-02,\n",
       "            9.9952e-01,  1.3000e-02,  9.9992e-01,  5.4820e-03,  9.9998e-01,\n",
       "            2.3118e-03,  1.0000e+00,  9.7486e-04,  1.0000e+00,  4.1110e-04,\n",
       "            1.0000e+00,  1.7336e-04,  1.0000e+00,  7.3104e-05,  1.0000e+00,\n",
       "            3.0828e-05,  1.0000e+00]],\n",
       " \n",
       "         [[ 9.9061e-01,  1.3674e-01, -3.7040e-01,  9.2887e-01,  6.0678e-01,\n",
       "           -7.9487e-01,  8.6735e-01,  4.9770e-01,  4.2840e-01,  9.0359e-01,\n",
       "            1.8561e-01,  9.8262e-01,  7.8646e-02,  9.9690e-01,  3.3193e-02,\n",
       "            9.9945e-01,  1.4000e-02,  9.9990e-01,  5.9037e-03,  9.9998e-01,\n",
       "            2.4896e-03,  1.0000e+00,  1.0499e-03,  1.0000e+00,  4.4272e-04,\n",
       "            1.0000e+00,  1.8669e-04,  1.0000e+00,  7.8728e-05,  1.0000e+00,\n",
       "            3.3199e-05,  1.0000e+00]]])]"
      ]
     },
     "execution_count": 7,
     "metadata": {},
     "output_type": "execute_result"
    }
   ],
   "source": [
    "pe = PositionEncoding(EMBED, SEQ + 10)\n",
    "\n",
    "[b for b in pe.buffers()]"
   ]
  },
  {
   "cell_type": "code",
   "execution_count": 8,
   "metadata": {},
   "outputs": [
    {
     "data": {
      "text/plain": [
       "tensor([[ 0.0000e+00,  1.0000e+00,  0.0000e+00,  1.0000e+00,  0.0000e+00,\n",
       "          1.0000e+00,  0.0000e+00,  1.0000e+00,  0.0000e+00,  1.0000e+00,\n",
       "          0.0000e+00,  1.0000e+00,  0.0000e+00,  1.0000e+00,  0.0000e+00,\n",
       "          1.0000e+00,  0.0000e+00,  1.0000e+00,  0.0000e+00,  1.0000e+00,\n",
       "          0.0000e+00,  1.0000e+00,  0.0000e+00,  1.0000e+00,  0.0000e+00,\n",
       "          1.0000e+00,  0.0000e+00,  1.0000e+00,  0.0000e+00,  1.0000e+00,\n",
       "          0.0000e+00,  1.0000e+00],\n",
       "        [ 8.4147e-01,  5.4030e-01,  4.0931e-01,  9.1240e-01,  1.7689e-01,\n",
       "          9.8423e-01,  7.4919e-02,  9.9719e-01,  3.1618e-02,  9.9950e-01,\n",
       "          1.3335e-02,  9.9991e-01,  5.6234e-03,  9.9998e-01,  2.3714e-03,\n",
       "          1.0000e+00,  1.0000e-03,  1.0000e+00,  4.2170e-04,  1.0000e+00,\n",
       "          1.7783e-04,  1.0000e+00,  7.4989e-05,  1.0000e+00,  3.1623e-05,\n",
       "          1.0000e+00,  1.3335e-05,  1.0000e+00,  5.6234e-06,  1.0000e+00,\n",
       "          2.3714e-06,  1.0000e+00],\n",
       "        [ 9.0930e-01, -4.1615e-01,  7.4690e-01,  6.6493e-01,  3.4821e-01,\n",
       "          9.3742e-01,  1.4942e-01,  9.8877e-01,  6.3203e-02,  9.9800e-01,\n",
       "          2.6667e-02,  9.9964e-01,  1.1247e-02,  9.9994e-01,  4.7427e-03,\n",
       "          9.9999e-01,  2.0000e-03,  1.0000e+00,  8.4339e-04,  1.0000e+00,\n",
       "          3.5566e-04,  1.0000e+00,  1.4998e-04,  1.0000e+00,  6.3246e-05,\n",
       "          1.0000e+00,  2.6670e-05,  1.0000e+00,  1.1247e-05,  1.0000e+00,\n",
       "          4.7427e-06,  1.0000e+00],\n",
       "        [ 1.4112e-01, -9.8999e-01,  9.5363e-01,  3.0097e-01,  5.0854e-01,\n",
       "          8.6104e-01,  2.2308e-01,  9.7480e-01,  9.4726e-02,  9.9550e-01,\n",
       "          3.9995e-02,  9.9920e-01,  1.6869e-02,  9.9986e-01,  7.1141e-03,\n",
       "          9.9997e-01,  3.0000e-03,  1.0000e+00,  1.2651e-03,  1.0000e+00,\n",
       "          5.3348e-04,  1.0000e+00,  2.2497e-04,  1.0000e+00,  9.4868e-05,\n",
       "          1.0000e+00,  4.0006e-05,  1.0000e+00,  1.6870e-05,  1.0000e+00,\n",
       "          7.1141e-06,  1.0000e+00],\n",
       "        [-7.5680e-01, -6.5364e-01,  9.9328e-01, -1.1573e-01,  6.5283e-01,\n",
       "          7.5751e-01,  2.9548e-01,  9.5535e-01,  1.2615e-01,  9.9201e-01,\n",
       "          5.3316e-02,  9.9858e-01,  2.2492e-02,  9.9975e-01,  9.4854e-03,\n",
       "          9.9995e-01,  4.0000e-03,  9.9999e-01,  1.6868e-03,  1.0000e+00,\n",
       "          7.1131e-04,  1.0000e+00,  2.9996e-04,  1.0000e+00,  1.2649e-04,\n",
       "          1.0000e+00,  5.3341e-05,  1.0000e+00,  2.2494e-05,  1.0000e+00,\n",
       "          9.4855e-06,  1.0000e+00]])"
      ]
     },
     "execution_count": 8,
     "metadata": {},
     "output_type": "execute_result"
    }
   ],
   "source": [
    "first_pos_enc = pe(test_tens)[0, :, 0]\n",
    "first_pos_enc"
   ]
  },
  {
   "cell_type": "code",
   "execution_count": null,
   "metadata": {},
   "outputs": [
    {
     "data": {
      "text/plain": [
       "<matplotlib.image.AxesImage at 0x7b55153b9e80>"
      ]
     },
     "execution_count": 9,
     "metadata": {},
     "output_type": "execute_result"
    },
    {
     "data": {
      "image/png": "[encoded data removed]",
      "text/plain": [
       "<Figure size 640x480 with 1 Axes>"
      ]
     },
     "metadata": {},
     "output_type": "display_data"
    }
   ],
   "source": [
    "# plot first_pos_enc on a 2d grid\n",
    "import matplotlib.pyplot as plt\n",
    "\n",
    "first_pos_enc_np = first_pos_enc.detach().numpy()\n",
    "plt.imshow(first_pos_enc_np)"
   ]
  },
  {
   "cell_type": "code",
   "execution_count": 12,
   "metadata": {},
   "outputs": [
    {
     "data": {
      "text/plain": [
       "tensor([[ 0,  1,  2,  3,  4],\n",
       "        [ 5,  6,  7,  8,  9],\n",
       "        [10, 11, 12, 13, 14],\n",
       "        [15, 16, 17, 18, 19]])"
      ]
     },
     "execution_count": 12,
     "metadata": {},
     "output_type": "execute_result"
    }
   ],
   "source": [
    "test_diag = torch.arange(20).reshape(4, 5)\n",
    "test_diag"
   ]
  },
  {
   "cell_type": "code",
   "execution_count": null,
   "metadata": {},
   "outputs": [
    {
     "data": {
      "text/plain": [
       "tensor([[[ 0,  5, 10, 15],\n",
       "         [ 0,  0,  0,  0],\n",
       "         [ 0,  0,  0,  0],\n",
       "         [ 0,  0,  0,  0],\n",
       "         [ 0,  0,  0,  0]],\n",
       "\n",
       "        [[ 0,  0,  0,  0],\n",
       "         [ 1,  6, 11, 16],\n",
       "         [ 0,  0,  0,  0],\n",
       "         [ 0,  0,  0,  0],\n",
       "         [ 0,  0,  0,  0]],\n",
       "\n",
       "        [[ 0,  0,  0,  0],\n",
       "         [ 0,  0,  0,  0],\n",
       "         [ 2,  7, 12, 17],\n",
       "         [ 0,  0,  0,  0],\n",
       "         [ 0,  0,  0,  0]],\n",
       "\n",
       "        [[ 0,  0,  0,  0],\n",
       "         [ 0,  0,  0,  0],\n",
       "         [ 0,  0,  0,  0],\n",
       "         [ 3,  8, 13, 18],\n",
       "         [ 0,  0,  0,  0]],\n",
       "\n",
       "        [[ 0,  0,  0,  0],\n",
       "         [ 0,  0,  0,  0],\n",
       "         [ 0,  0,  0,  0],\n",
       "         [ 0,  0,  0,  0],\n",
       "         [ 4,  9, 14, 19]]])"
      ]
     },
     "execution_count": 15,
     "metadata": {},
     "output_type": "execute_result"
    }
   ],
   "source": [
    "res = torch.diag_embed(test_diag, offset=0, dim1=0, dim2=1)\n",
    "\n",
    "# Dimension mapping: (n_params, batch) -> (batch, n_params)\n",
    "\n",
    "# What if we wanted to apply to different dimensions?\n",
    "\n",
    "res"
   ]
  },
  {
   "cell_type": "code",
   "execution_count": 17,
   "metadata": {},
   "outputs": [
    {
     "data": {
      "text/plain": [
       "tensor([[5, 0, 0, 0, 0],\n",
       "        [0, 6, 0, 0, 0],\n",
       "        [0, 0, 7, 0, 0],\n",
       "        [0, 0, 0, 8, 0],\n",
       "        [0, 0, 0, 0, 9]])"
      ]
     },
     "execution_count": 17,
     "metadata": {},
     "output_type": "execute_result"
    }
   ],
   "source": [
    "res[:, :, 1]"
   ]
  },
  {
   "cell_type": "code",
   "execution_count": 21,
   "metadata": {},
   "outputs": [
    {
     "data": {
      "text/plain": [
       "tensor([[ 0,  1,  2,  3,  4],\n",
       "        [ 5,  6,  7,  8,  9],\n",
       "        [10, 11, 12, 13, 14],\n",
       "        [15, 16, 17, 18, 19]])"
      ]
     },
     "execution_count": 21,
     "metadata": {},
     "output_type": "execute_result"
    }
   ],
   "source": [
    "test_diag.view(4, -1)"
   ]
  },
  {
   "cell_type": "code",
   "execution_count": null,
   "metadata": {},
   "outputs": [],
   "source": []
  }
 ],
 "metadata": {
  "kernelspec": {
   "display_name": "tqs2",
   "language": "python",
   "name": "python3"
  },
  "language_info": {
   "codemirror_mode": {
    "name": "ipython",
    "version": 3
   },
   "file_extension": ".py",
   "mimetype": "text/x-python",
   "name": "python",
   "nbconvert_exporter": "python",
   "pygments_lexer": "ipython3",
   "version": "3.12.2"
  }
 },
 "nbformat": 4,
 "nbformat_minor": 2
}
