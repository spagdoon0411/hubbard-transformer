{
 "cells": [
  {
   "cell_type": "code",
   "execution_count": 16,
   "metadata": {},
   "outputs": [],
   "source": [
    "import torch\n",
    "import functools as ft"
   ]
  },
  {
   "cell_type": "code",
   "execution_count": 17,
   "metadata": {},
   "outputs": [],
   "source": [
    "class CreationAnnihilation:\n",
    "    def __init__(self, max_occs: int):\n",
    "        d = torch.arange(1, max_occs + 1)\n",
    "        self.c = torch.diag(d, diagonal=-1)\n",
    "        self.a = torch.diag(d, diagonal=1)"
   ]
  },
  {
   "cell_type": "code",
   "execution_count": 18,
   "metadata": {},
   "outputs": [],
   "source": [
    "def circular_shift(lst, shift_by):\n",
    "    if not lst:\n",
    "        return lst\n",
    "    shift_by %= len(lst)  # Handle shifts greater than the list length\n",
    "    return lst[-shift_by:] + lst[:-shift_by]"
   ]
  },
  {
   "cell_type": "code",
   "execution_count": 19,
   "metadata": {},
   "outputs": [],
   "source": [
    "def exact_hopping(t, n_sites):\n",
    "    \"\"\"\n",
    "    Manual creation of a hopping Hamiltonian as a sum of tensor product'd\n",
    "    creation and annihilation operators.\n",
    "\n",
    "    Local number basis: dimension 2\n",
    "\n",
    "    Occupation basis: dimension 2 * 2 * n_sites\n",
    "    \"\"\"\n",
    "\n",
    "    I_occ_to_spin = torch.eye(2)\n",
    "    I_spin_to_site = torch.eye(4)\n",
    "\n",
    "    def reference_list(op: torch.Tensor, I: torch.Tensor, pos: int, num: int):\n",
    "        \"\"\"\n",
    "        Produces a list to tensor-product across to bring an operator from a local\n",
    "        vector space up to a global vector space.\n",
    "        \"\"\"\n",
    "\n",
    "        l = [I] * num\n",
    "        l[pos] = op\n",
    "        return l\n",
    "\n",
    "    ops = CreationAnnihilation(1)\n",
    "\n",
    "    @ft.lru_cache(maxsize=None)\n",
    "    def up_a_space(op: torch.Tensor, I: torch.Tensor, pos: int, num: int):\n",
    "        r_list = reference_list(op, I, pos, num)\n",
    "        r_list = circular_shift(r_list, pos)\n",
    "        res = ft.reduce(torch.kron, r_list)\n",
    "        return res\n",
    "\n",
    "    # TODO: be sure cache keys don't involve deep comparisons of tensors\n",
    "\n",
    "    @ft.lru_cache(maxsize=None)\n",
    "    def spin_creation(spin_i: int):\n",
    "        return up_a_space(ops.c, I_occ_to_spin, pos=spin_i, num=2)\n",
    "\n",
    "    @ft.lru_cache(maxsize=None)\n",
    "    def spin_annihilation(spin_i: int):\n",
    "        return up_a_space(ops.a, I_occ_to_spin, pos=spin_i, num=2)\n",
    "\n",
    "    def hopping_contribution(site_i: int, sp_i: int, site_j: int, sp_j: int):\n",
    "        \"\"\"\n",
    "        The operator describing the hopping contribution between two spins.\n",
    "        \"\"\"\n",
    "        c = spin_creation(sp_i)\n",
    "        a = spin_annihilation(sp_j)\n",
    "        c = up_a_space(c, I_spin_to_site, pos=site_i, num=n_sites)\n",
    "        a = up_a_space(a, I_spin_to_site, pos=site_j, num=n_sites)\n",
    "        contribution = c @ a\n",
    "        return contribution\n",
    "\n",
    "    def site_site_interaction(site_i: int, sp_i: int, site_j: int, sp_j: int):\n",
    "        i_to_j = hopping_contribution(site_i, sp_i, site_j, sp_j)\n",
    "        j_to_i = i_to_j.conj().T\n",
    "        return i_to_j + j_to_i\n",
    "\n",
    "    def add_interaction_contribution(\n",
    "        site_i: int,\n",
    "        sp_i: int,\n",
    "        site_j: int,\n",
    "        sp_j: int,\n",
    "        t: int,\n",
    "        buf_ref: torch.Tensor,\n",
    "    ):\n",
    "        interactions = site_site_interaction(site_i, sp_i, site_j, sp_j)\n",
    "        buf_ref += -t * interactions\n",
    "\n",
    "    def interactions():\n",
    "        for i in range(n_sites):\n",
    "            for j in range(2):\n",
    "                print(f\"i: {i}, j: {j}\")\n",
    "                yield (i, j, (i + 1) % n_sites, j)\n",
    "\n",
    "    buf_ref = torch.zeros(\n",
    "        (2 ** (2 * n_sites), 2 ** (2 * n_sites)),\n",
    "        dtype=torch.float32,\n",
    "    )\n",
    "    for site_i, sp_i, site_j, sp_j in interactions():\n",
    "        add_interaction_contribution(site_i, sp_i, site_j, sp_j, t, buf_ref)\n",
    "\n",
    "    return buf_ref\n",
    "\n"
   ]
  },
  {
   "cell_type": "code",
   "execution_count": 20,
   "metadata": {},
   "outputs": [
    {
     "name": "stdout",
     "output_type": "stream",
     "text": [
      "i: 0, j: 0\n",
      "i: 0, j: 1\n",
      "i: 1, j: 0\n",
      "i: 1, j: 1\n",
      "i: 2, j: 0\n",
      "i: 2, j: 1\n"
     ]
    },
    {
     "data": {
      "text/plain": [
       "tensor([[0., 0., 0.,  ..., 0., 0., 0.],\n",
       "        [0., 0., 0.,  ..., 0., 0., 0.],\n",
       "        [0., 0., 0.,  ..., 0., 0., 0.],\n",
       "        ...,\n",
       "        [0., 0., 0.,  ..., 0., 0., 0.],\n",
       "        [0., 0., 0.,  ..., 0., 0., 0.],\n",
       "        [0., 0., 0.,  ..., 0., 0., 0.]])"
      ]
     },
     "execution_count": 20,
     "metadata": {},
     "output_type": "execute_result"
    }
   ],
   "source": [
    "exact_hopping(1, 3)"
   ]
  },
  {
   "cell_type": "code",
   "execution_count": 21,
   "metadata": {},
   "outputs": [
    {
     "name": "stdout",
     "output_type": "stream",
     "text": [
      "i: 0, j: 0\n",
      "i: 0, j: 1\n",
      "i: 1, j: 0\n",
      "i: 1, j: 1\n",
      "i: 2, j: 0\n",
      "i: 2, j: 1\n"
     ]
    },
    {
     "data": {
      "text/plain": [
       "torch.Size([64, 64])"
      ]
     },
     "execution_count": 21,
     "metadata": {},
     "output_type": "execute_result"
    }
   ],
   "source": [
    "exact_hopping(1, 3).shape   "
   ]
  },
  {
   "cell_type": "code",
   "execution_count": 22,
   "metadata": {},
   "outputs": [
    {
     "name": "stdout",
     "output_type": "stream",
     "text": [
      "i: 0, j: 0\n",
      "i: 0, j: 1\n",
      "i: 1, j: 0\n",
      "i: 1, j: 1\n",
      "i: 2, j: 0\n",
      "i: 2, j: 1\n"
     ]
    },
    {
     "data": {
      "image/png": "[encoded data removed]",
      "text/plain": [
       "<Figure size 640x480 with 2 Axes>"
      ]
     },
     "metadata": {},
     "output_type": "display_data"
    }
   ],
   "source": [
    "hopping = exact_hopping(1, 3)\n",
    "\n",
    "import matplotlib.pyplot as plt\n",
    "\n",
    "plt.imshow(hopping.numpy(), cmap='viridis', interpolation='nearest')\n",
    "plt.colorbar()\n",
    "plt.title(\"Exact Hopping Matrix\")\n",
    "plt.xlabel(\"Index\")\n",
    "plt.ylabel(\"Index\")\n",
    "plt.show()"
   ]
  },
  {
   "cell_type": "code",
   "execution_count": null,
   "metadata": {},
   "outputs": [],
   "source": []
  }
 ],
 "metadata": {
  "kernelspec": {
   "display_name": ".venv",
   "language": "python",
   "name": "python3"
  },
  "language_info": {
   "codemirror_mode": {
    "name": "ipython",
    "version": 3
   },
   "file_extension": ".py",
   "mimetype": "text/x-python",
   "name": "python",
   "nbconvert_exporter": "python",
   "pygments_lexer": "ipython3",
   "version": "3.13.3"
  }
 },
 "nbformat": 4,
 "nbformat_minor": 2
}
