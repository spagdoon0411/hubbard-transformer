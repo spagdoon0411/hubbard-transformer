{
 "cells": [
  {
   "cell_type": "code",
   "execution_count": 8,
   "metadata": {},
   "outputs": [
    {
     "name": "stdout",
     "output_type": "stream",
     "text": [
      "The autoreload extension is already loaded. To reload it, use:\n",
      "  %reload_ext autoreload\n",
      "CUDA is available.\n",
      "Changed working dir to /home/spandan/Projects/hubbard-transformer\n"
     ]
    }
   ],
   "source": [
    "%load_ext autoreload\n",
    "%autoreload 2\n",
    "from boilerplate import setup_nb\n",
    "device = setup_nb()"
   ]
  },
  {
   "cell_type": "code",
   "execution_count": 9,
   "metadata": {},
   "outputs": [],
   "source": [
    "import torch\n",
    "from embedding import HubbardEmbedding"
   ]
  },
  {
   "cell_type": "code",
   "execution_count": 10,
   "metadata": {},
   "outputs": [],
   "source": [
    "N_PARAMS = 5\n",
    "TOKEN_DIMS = 32\n",
    "PARAM_DIMS = 16\n",
    "MAX_LEN = 100\n",
    "MIN_OCC = 0\n",
    "MAX_OCC = 10\n",
    "BATCH_SIZE = 32"
   ]
  },
  {
   "cell_type": "code",
   "execution_count": 11,
   "metadata": {},
   "outputs": [
    {
     "data": {
      "text/plain": [
       "HubbardEmbedding(\n",
       "  (occ_embedding): GenericOccupationEncoding(\n",
       "    (pe): PositionEncoding()\n",
       "  )\n",
       "  (param_embedding): GenericParamEncoding()\n",
       ")"
      ]
     },
     "execution_count": 11,
     "metadata": {},
     "output_type": "execute_result"
    }
   ],
   "source": [
    "(embedding := HubbardEmbedding(TOKEN_DIMS, PARAM_DIMS, N_PARAMS, MAX_LEN).to(device))"
   ]
  },
  {
   "cell_type": "code",
   "execution_count": 14,
   "metadata": {},
   "outputs": [
    {
     "data": {
      "text/plain": [
       "tensor([[ 0.1170, -1.1382, -0.6273, -2.1046, -0.5750,  0.6192,  0.0744,  0.2063,\n",
       "         -0.1562,  0.3838,  0.4493, -0.2688,  1.3519,  1.0244,  1.2306, -1.6361,\n",
       "         -0.5627, -0.3832, -1.4716,  0.6432,  0.2804,  0.2972, -0.5491, -0.7477,\n",
       "         -0.2774,  0.5595,  0.8160,  0.2618, -0.3370,  0.3852,  0.3312,  0.6745],\n",
       "        [ 0.0461,  1.5029, -0.5141, -0.1130,  0.5439,  1.3058, -1.3919,  1.1781,\n",
       "         -1.0295, -0.0216, -1.6672,  1.9616, -0.2627,  0.9091, -1.3809, -1.4429,\n",
       "         -0.6327,  1.0341,  0.4791, -1.2131, -0.2549, -0.0924, -0.0559,  0.6992,\n",
       "          1.4772, -0.1945, -0.8888,  0.3309,  1.5328,  0.0720,  0.0988,  0.4891],\n",
       "        [ 0.5035,  1.5182,  0.2702, -0.7291,  0.2244,  0.9038, -0.2589, -2.9552,\n",
       "          1.0044,  0.0450,  0.7810,  0.9199,  0.3632,  0.1926, -0.8230, -0.9520,\n",
       "          0.8499, -2.0838,  0.3391, -0.7865, -0.5106, -0.1472,  0.6574, -0.6185,\n",
       "         -0.2725, -0.1735,  0.5040,  0.5855, -0.6874, -0.3312,  0.2808,  0.3241],\n",
       "        [-1.5949,  1.1420, -1.9035,  1.0289,  1.8349, -0.2274, -0.1959, -0.5938,\n",
       "         -2.1658, -2.3410,  0.0694,  0.3232,  1.0763,  1.1741,  0.2288, -1.3272,\n",
       "          1.8236,  1.0039, -1.2224,  0.1290, -0.7162,  0.2920,  0.9490, -0.4725,\n",
       "         -0.5979, -1.1004, -1.4750,  0.7035, -0.7767,  0.4278, -0.4671,  0.0086],\n",
       "        [-0.8985,  2.0107,  0.8490,  0.2886, -2.6703, -0.5453,  0.0657, -0.6173,\n",
       "         -0.2999, -0.3196, -1.4362, -0.2022, -1.6271,  2.0947, -0.5025,  0.0481,\n",
       "          0.2148,  2.8649,  0.9244,  0.8730, -1.6387, -0.8524, -0.1577,  0.5308,\n",
       "         -0.9530,  0.3592, -0.0997, -1.6009, -0.1573, -0.5360, -0.2060, -0.2823]],\n",
       "       device='cuda:0')"
      ]
     },
     "execution_count": 14,
     "metadata": {},
     "output_type": "execute_result"
    }
   ],
   "source": [
    "(test_params := torch.randn(N_PARAMS, BATCH_SIZE).to(device))"
   ]
  },
  {
   "cell_type": "code",
   "execution_count": null,
   "metadata": {},
   "outputs": [
    {
     "data": {
      "text/plain": [
       "tensor([[9, 5, 9,  ..., 9, 5, 0],\n",
       "        [2, 3, 7,  ..., 0, 7, 5],\n",
       "        [7, 4, 9,  ..., 9, 6, 2],\n",
       "        ...,\n",
       "        [0, 4, 9,  ..., 5, 2, 2],\n",
       "        [9, 4, 8,  ..., 1, 7, 8],\n",
       "        [4, 1, 0,  ..., 1, 1, 4]], device='cuda:0')"
      ]
     },
     "execution_count": 16,
     "metadata": {},
     "output_type": "execute_result"
    }
   ],
   "source": [
    "(test_occupations := torch.randint(MIN_OCC, MAX_OCC+ . 1, (MAX_LEN, BATCH_SIZE)).to(device))"
   ]
  },
  {
   "cell_type": "code",
   "execution_count": null,
   "metadata": {},
   "outputs": [],
   "source": []
  },
  {
   "cell_type": "code",
   "execution_count": null,
   "metadata": {},
   "outputs": [],
   "source": []
  },
  {
   "cell_type": "code",
   "execution_count": null,
   "metadata": {},
   "outputs": [],
   "source": []
  }
 ],
 "metadata": {
  "kernelspec": {
   "display_name": "tqs2",
   "language": "python",
   "name": "python3"
  },
  "language_info": {
   "codemirror_mode": {
    "name": "ipython",
    "version": 3
   },
   "file_extension": ".py",
   "mimetype": "text/x-python",
   "name": "python",
   "nbconvert_exporter": "python",
   "pygments_lexer": "ipython3",
   "version": "3.12.2"
  }
 },
 "nbformat": 4,
 "nbformat_minor": 2
}
